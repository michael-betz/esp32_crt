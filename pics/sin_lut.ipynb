{
 "cells": [
  {
   "cell_type": "code",
   "execution_count": 1,
   "id": "466240c1",
   "metadata": {},
   "outputs": [
    {
     "name": "stdout",
     "output_type": "stream",
     "text": [
      "%pylab is deprecated, use %matplotlib inline and import the required libraries.\n",
      "Populating the interactive namespace from numpy and matplotlib\n"
     ]
    }
   ],
   "source": [
    "%pylab notebook"
   ]
  },
  {
   "cell_type": "code",
   "execution_count": 78,
   "id": "4b6331a6",
   "metadata": {},
   "outputs": [
    {
     "name": "stdout",
     "output_type": "stream",
     "text": [
      " 0 0\n",
      " 1 418953276\n",
      " 2 821806412\n",
      " 3 1193077990\n",
      " 4 1518500249\n",
      " 5 1785567395\n",
      " 6 1984016187\n",
      " 7 2106220350\n"
     ]
    }
   ],
   "source": [
    "MAX_ANGLE = 32\n",
    "HALF_MAX_ANGLE = MAX_ANGLE // 2\n",
    "QUARTER_MAX_ANGLE = MAX_ANGLE // 4\n",
    "INT_MAX = ((1 << 31) - 1)\n",
    "\n",
    "quarter_sin_lut = zeros(QUARTER_MAX_ANGLE, dtype=int)\n",
    "for i in range(QUARTER_MAX_ANGLE):\n",
    "    val = int(sin(2 * pi * i / MAX_ANGLE) * INT_MAX)\n",
    "    quarter_sin_lut[i] = val\n",
    "    print(f'{i:2d} {val}')"
   ]
  },
  {
   "cell_type": "code",
   "execution_count": 83,
   "id": "ce1f73b4",
   "metadata": {},
   "outputs": [],
   "source": [
    "def get_sin(alpha):\n",
    "    alpha &= MAX_ANGLE - 1\n",
    "    if alpha > HALF_MAX_ANGLE:\n",
    "        sign = -1\n",
    "    else:\n",
    "        sign = 1\n",
    "    alpha &= HALF_MAX_ANGLE - 1\n",
    "    if alpha < QUARTER_MAX_ANGLE:\n",
    "        return quarter_sin_lut[alpha] * sign\n",
    "    if alpha == QUARTER_MAX_ANGLE:\n",
    "        return INT_MAX * sign\n",
    "    if alpha > QUARTER_MAX_ANGLE:\n",
    "        return quarter_sin_lut[2 * QUARTER_MAX_ANGLE - alpha] * sign\n",
    "    \n",
    "def get_cos(alpha):\n",
    "    return get_sin(alpha + QUARTER_MAX_ANGLE)"
   ]
  },
  {
   "cell_type": "code",
   "execution_count": 85,
   "id": "c7848579",
   "metadata": {},
   "outputs": [
    {
     "name": "stdout",
     "output_type": "stream",
     "text": [
      "-32 -1.000  0.000   0.000 -0.000000\n",
      "-31 -0.969  0.195   0.195 -0.000000\n",
      "-30 -0.938  0.383   0.383 -0.000000\n",
      "-29 -0.906  0.556   0.556 -0.000000\n",
      "-28 -0.875  0.707   0.707 -0.000000\n",
      "-27 -0.844  0.831   0.831 -0.000000\n",
      "-26 -0.812  0.924   0.924 -0.000000\n",
      "-25 -0.781  0.981   0.981 -0.000000\n",
      "-24 -0.750  1.000   1.000  0.000000\n",
      "-23 -0.719  0.981   0.981 -0.000000\n",
      "-22 -0.688  0.924   0.924 -0.000000\n",
      "-21 -0.656  0.831   0.831 -0.000000\n",
      "-20 -0.625  0.707   0.707 -0.000000\n",
      "-19 -0.594  0.556   0.556 -0.000000\n",
      "-18 -0.562  0.383   0.383 -0.000000\n",
      "-17 -0.531  0.195   0.195 -0.000000\n",
      "-16 -0.500 -0.000   0.000  0.000000\n",
      "-15 -0.469 -0.195  -0.195  0.000000\n",
      "-14 -0.438 -0.383  -0.383  0.000000\n",
      "-13 -0.406 -0.556  -0.556  0.000000\n",
      "-12 -0.375 -0.707  -0.707  0.000000\n",
      "-11 -0.344 -0.831  -0.831  0.000000\n",
      "-10 -0.312 -0.924  -0.924  0.000000\n",
      " -9 -0.281 -0.981  -0.981  0.000000\n",
      " -8 -0.250 -1.000  -1.000  0.000000\n",
      " -7 -0.219 -0.981  -0.981  0.000000\n",
      " -6 -0.188 -0.924  -0.924  0.000000\n",
      " -5 -0.156 -0.831  -0.831  0.000000\n",
      " -4 -0.125 -0.707  -0.707  0.000000\n",
      " -3 -0.094 -0.556  -0.556  0.000000\n",
      " -2 -0.062 -0.383  -0.383  0.000000\n",
      " -1 -0.031 -0.195  -0.195  0.000000\n",
      "  0  0.000  0.000   0.000  0.000000\n",
      "  1  0.031  0.195   0.195 -0.000000\n",
      "  2  0.062  0.383   0.383 -0.000000\n",
      "  3  0.094  0.556   0.556 -0.000000\n",
      "  4  0.125  0.707   0.707 -0.000000\n",
      "  5  0.156  0.831   0.831 -0.000000\n",
      "  6  0.188  0.924   0.924 -0.000000\n",
      "  7  0.219  0.981   0.981 -0.000000\n",
      "  8  0.250  1.000   1.000  0.000000\n",
      "  9  0.281  0.981   0.981 -0.000000\n",
      " 10  0.312  0.924   0.924 -0.000000\n",
      " 11  0.344  0.831   0.831 -0.000000\n",
      " 12  0.375  0.707   0.707 -0.000000\n",
      " 13  0.406  0.556   0.556 -0.000000\n",
      " 14  0.438  0.383   0.383 -0.000000\n",
      " 15  0.469  0.195   0.195 -0.000000\n",
      " 16  0.500  0.000   0.000 -0.000000\n",
      " 17  0.531 -0.195  -0.195  0.000000\n",
      " 18  0.562 -0.383  -0.383  0.000000\n",
      " 19  0.594 -0.556  -0.556  0.000000\n",
      " 20  0.625 -0.707  -0.707  0.000000\n",
      " 21  0.656 -0.831  -0.831  0.000000\n",
      " 22  0.688 -0.924  -0.924  0.000000\n",
      " 23  0.719 -0.981  -0.981  0.000000\n",
      " 24  0.750 -1.000  -1.000  0.000000\n",
      " 25  0.781 -0.981  -0.981  0.000000\n",
      " 26  0.812 -0.924  -0.924  0.000000\n",
      " 27  0.844 -0.831  -0.831  0.000000\n",
      " 28  0.875 -0.707  -0.707  0.000000\n",
      " 29  0.906 -0.556  -0.556  0.000000\n",
      " 30  0.938 -0.383  -0.383  0.000000\n",
      " 31  0.969 -0.195  -0.195  0.000000\n",
      "\n",
      "err_sum: 8.295784898132289e-08\n"
     ]
    }
   ],
   "source": [
    "err = 0\n",
    "for i in range(-MAX_ANGLE, MAX_ANGLE):\n",
    "    val = sin(2 * pi * i / MAX_ANGLE)\n",
    "    val_ = get_sin(i) / INT_MAX\n",
    "    err = val_ - val\n",
    "    err_sum += abs(val_ - val)\n",
    "    print(f'{i:3d} {i / MAX_ANGLE:6.3f} {val:6.3f}  {val_:6.3f} {err:9.6f}')\n",
    "\n",
    "print('\\nerr_sum:', err_sum)"
   ]
  },
  {
   "cell_type": "code",
   "execution_count": 63,
   "id": "35d9d9f0",
   "metadata": {},
   "outputs": [
    {
     "name": "stdout",
     "output_type": "stream",
     "text": [
      "\n",
      "err_sum: 1.553916819097227e-08\n"
     ]
    }
   ],
   "source": [
    "err_sum = 0\n",
    "for i in range(-2 * MAX_ANGLE, 2 * MAX_ANGLE):\n",
    "    val = cos(2 * pi * i / MAX_ANGLE)\n",
    "    val_ = get_cos(i) / INT_MAX\n",
    "    err = val_ - val\n",
    "    err_sum += abs(err)\n",
    "#     print(f'{i:3d} {i / MAX_ANGLE:6.3f} {val:6.3f}  {val_:6.3f} {err:9.6f}')\n",
    "\n",
    "print('\\nerr_sum:', err_sum)"
   ]
  },
  {
   "cell_type": "code",
   "execution_count": 64,
   "id": "5a9054dc",
   "metadata": {},
   "outputs": [
    {
     "data": {
      "text/plain": [
       "3.141592653589793"
      ]
     },
     "execution_count": 64,
     "metadata": {},
     "output_type": "execute_result"
    }
   ],
   "source": [
    "pi"
   ]
  },
  {
   "cell_type": "code",
   "execution_count": 75,
   "id": "92d73631",
   "metadata": {},
   "outputs": [
    {
     "name": "stdout",
     "output_type": "stream",
     "text": [
      "7fffffff\n"
     ]
    }
   ],
   "source": [
    "print(f'{(1 << 31) - 1:08x}')"
   ]
  },
  {
   "cell_type": "code",
   "execution_count": 88,
   "id": "c84fa8e2",
   "metadata": {},
   "outputs": [
    {
     "data": {
      "text/plain": [
       "48"
      ]
     },
     "execution_count": 88,
     "metadata": {},
     "output_type": "execute_result"
    }
   ],
   "source": [
    "12345 // 256"
   ]
  },
  {
   "cell_type": "code",
   "execution_count": 87,
   "id": "948ec694",
   "metadata": {},
   "outputs": [
    {
     "data": {
      "text/plain": [
       "48"
      ]
     },
     "execution_count": 87,
     "metadata": {},
     "output_type": "execute_result"
    }
   ],
   "source": [
    "12345 >> 8"
   ]
  },
  {
   "cell_type": "code",
   "execution_count": null,
   "id": "7f15d24d",
   "metadata": {},
   "outputs": [],
   "source": []
  }
 ],
 "metadata": {
  "kernelspec": {
   "display_name": "Python 3 (ipykernel)",
   "language": "python",
   "name": "python3"
  },
  "language_info": {
   "codemirror_mode": {
    "name": "ipython",
    "version": 3
   },
   "file_extension": ".py",
   "mimetype": "text/x-python",
   "name": "python",
   "nbconvert_exporter": "python",
   "pygments_lexer": "ipython3",
   "version": "3.11.2"
  }
 },
 "nbformat": 4,
 "nbformat_minor": 5
}
