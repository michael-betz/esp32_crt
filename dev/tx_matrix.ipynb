{
 "cells": [
  {
   "cell_type": "code",
   "execution_count": 2,
   "id": "7cbf76ce",
   "metadata": {},
   "outputs": [],
   "source": [
    "from sympy import *"
   ]
  },
  {
   "cell_type": "code",
   "execution_count": 3,
   "id": "86751a56",
   "metadata": {},
   "outputs": [],
   "source": [
    "x, y, z = symbols(\"x y z\")"
   ]
  },
  {
   "cell_type": "code",
   "execution_count": 35,
   "id": "6a2456f4",
   "metadata": {},
   "outputs": [
    {
     "data": {
      "text/latex": [
       "$\\displaystyle \\left[\\begin{matrix}m_{00} & m_{01} & m_{02} & m_{03}\\\\m_{10} & m_{11} & m_{12} & m_{13}\\\\m_{20} & m_{21} & m_{22} & m_{23}\\\\m_{30} & m_{31} & m_{32} & m_{33}\\end{matrix}\\right]$"
      ],
      "text/plain": [
       "Matrix([\n",
       "[m00, m01, m02, m03],\n",
       "[m10, m11, m12, m13],\n",
       "[m20, m21, m22, m23],\n",
       "[m30, m31, m32, m33]])"
      ]
     },
     "execution_count": 35,
     "metadata": {},
     "output_type": "execute_result"
    }
   ],
   "source": [
    "m00, m01, m02, m03 = symbols(\"m00, m01, m02, m03\")\n",
    "m10, m11, m12, m13 = symbols(\"m10, m11, m12, m13\")\n",
    "m20, m21, m22, m23 = symbols(\"m20, m21, m22, m23\")\n",
    "m30, m31, m32, m33 = symbols(\"m30, m31, m32, m33\")\n",
    "\n",
    "m_in = ImmutableMatrix([[m00, m01, m02, m03], [m10, m11, m12, m13], [m20, m21, m22, m23], [m30, m31, m32, m33]])\n",
    "m_in"
   ]
  },
  {
   "cell_type": "code",
   "execution_count": 24,
   "id": "ea4c25ef",
   "metadata": {},
   "outputs": [
    {
     "data": {
      "text/latex": [
       "$\\displaystyle \\left[\\begin{matrix}ptx\\\\pty\\\\ptz\\\\1\\end{matrix}\\right]$"
      ],
      "text/plain": [
       "Matrix([\n",
       "[ptx],\n",
       "[pty],\n",
       "[ptz],\n",
       "[  1]])"
      ]
     },
     "execution_count": 24,
     "metadata": {},
     "output_type": "execute_result"
    }
   ],
   "source": [
    "ptx, pty, ptz = symbols('ptx, pty, ptz')\n",
    "pt = ImmutableMatrix([ptx, pty, ptz, 1])\n",
    "pt"
   ]
  },
  {
   "cell_type": "code",
   "execution_count": 36,
   "id": "6e8801bc",
   "metadata": {},
   "outputs": [
    {
     "data": {
      "text/latex": [
       "$\\displaystyle \\left[\\begin{matrix}1 & 0 & 0 & tx\\\\0 & 1 & 0 & ty\\\\0 & 0 & 1 & tz\\\\0 & 0 & 0 & 1\\end{matrix}\\right]$"
      ],
      "text/plain": [
       "Matrix([\n",
       "[1, 0, 0, tx],\n",
       "[0, 1, 0, ty],\n",
       "[0, 0, 1, tz],\n",
       "[0, 0, 0,  1]])"
      ]
     },
     "execution_count": 36,
     "metadata": {},
     "output_type": "execute_result"
    }
   ],
   "source": [
    "tx, ty, tz = symbols(\"tx ty tz\")\n",
    "m_translate = ImmutableMatrix([[1, 0, 0, tx], [0, 1, 0, ty], [0, 0, 1, tz], [0, 0, 0, 1]])\n",
    "m_translate"
   ]
  },
  {
   "cell_type": "code",
   "execution_count": 30,
   "id": "d285f638",
   "metadata": {},
   "outputs": [
    {
     "data": {
      "text/latex": [
       "$\\displaystyle \\left[\\begin{matrix}s & 0 & 0 & 0\\\\0 & s & 0 & 0\\\\0 & 0 & s & 0\\\\0 & 0 & 0 & 1\\end{matrix}\\right]$"
      ],
      "text/plain": [
       "Matrix([\n",
       "[s, 0, 0, 0],\n",
       "[0, s, 0, 0],\n",
       "[0, 0, s, 0],\n",
       "[0, 0, 0, 1]])"
      ]
     },
     "execution_count": 30,
     "metadata": {},
     "output_type": "execute_result"
    }
   ],
   "source": [
    "s = symbols(\"s\")\n",
    "m_scale = ImmutableMatrix([[s, 0, 0, 0], [0, s, 0 ,0], [0, 0, s, 0], [0, 0, 0, 1]])\n",
    "m_scale"
   ]
  },
  {
   "cell_type": "code",
   "execution_count": 53,
   "id": "6565811c",
   "metadata": {},
   "outputs": [
    {
     "data": {
      "text/latex": [
       "$\\displaystyle \\left[\\begin{matrix}1 & 0 & 0 & tx\\\\0 & 1 & 0 & ty\\\\0 & 0 & 1 & tz\\\\0 & 0 & 0 & 1\\end{matrix}\\right]$"
      ],
      "text/plain": [
       "Matrix([\n",
       "[1, 0, 0, tx],\n",
       "[0, 1, 0, ty],\n",
       "[0, 0, 1, tz],\n",
       "[0, 0, 0,  1]])"
      ]
     },
     "execution_count": 53,
     "metadata": {},
     "output_type": "execute_result"
    }
   ],
   "source": [
    "m_translate"
   ]
  },
  {
   "cell_type": "code",
   "execution_count": 47,
   "id": "22fca558",
   "metadata": {},
   "outputs": [
    {
     "data": {
      "text/latex": [
       "$\\displaystyle \\left[\\begin{matrix}m_{00} & m_{01} & m_{02} & m_{00} tx + m_{01} ty + m_{02} tz + m_{03}\\\\m_{10} & m_{11} & m_{12} & m_{10} tx + m_{11} ty + m_{12} tz + m_{13}\\\\m_{20} & m_{21} & m_{22} & m_{20} tx + m_{21} ty + m_{22} tz + m_{23}\\\\m_{30} & m_{31} & m_{32} & m_{30} tx + m_{31} ty + m_{32} tz + m_{33}\\end{matrix}\\right]$"
      ],
      "text/plain": [
       "Matrix([\n",
       "[m00, m01, m02, m00*tx + m01*ty + m02*tz + m03],\n",
       "[m10, m11, m12, m10*tx + m11*ty + m12*tz + m13],\n",
       "[m20, m21, m22, m20*tx + m21*ty + m22*tz + m23],\n",
       "[m30, m31, m32, m30*tx + m31*ty + m32*tz + m33]])"
      ]
     },
     "execution_count": 47,
     "metadata": {},
     "output_type": "execute_result"
    }
   ],
   "source": [
    "(m_in * m_translate)"
   ]
  },
  {
   "cell_type": "code",
   "execution_count": 51,
   "id": "a0b6dbd6",
   "metadata": {},
   "outputs": [
    {
     "data": {
      "text/latex": [
       "$\\displaystyle \\left[\\begin{matrix}m_{00} s & m_{01} s & m_{02} s & m_{03}\\\\m_{10} s & m_{11} s & m_{12} s & m_{13}\\\\m_{20} s & m_{21} s & m_{22} s & m_{23}\\\\m_{30} s & m_{31} s & m_{32} s & m_{33}\\end{matrix}\\right]$"
      ],
      "text/plain": [
       "Matrix([\n",
       "[m00*s, m01*s, m02*s, m03],\n",
       "[m10*s, m11*s, m12*s, m13],\n",
       "[m20*s, m21*s, m22*s, m23],\n",
       "[m30*s, m31*s, m32*s, m33]])"
      ]
     },
     "execution_count": 51,
     "metadata": {},
     "output_type": "execute_result"
    }
   ],
   "source": [
    "(m_in * m_scale)"
   ]
  },
  {
   "cell_type": "code",
   "execution_count": 54,
   "id": "dd90578b",
   "metadata": {},
   "outputs": [
    {
     "data": {
      "text/latex": [
       "$\\displaystyle \\left[\\begin{matrix}s & 0 & 0 & s tx\\\\0 & s & 0 & s ty\\\\0 & 0 & s & s tz\\\\0 & 0 & 0 & 1\\end{matrix}\\right]$"
      ],
      "text/plain": [
       "Matrix([\n",
       "[s, 0, 0, s*tx],\n",
       "[0, s, 0, s*ty],\n",
       "[0, 0, s, s*tz],\n",
       "[0, 0, 0,    1]])"
      ]
     },
     "execution_count": 54,
     "metadata": {},
     "output_type": "execute_result"
    }
   ],
   "source": [
    "m_scale * m_translate"
   ]
  },
  {
   "cell_type": "code",
   "execution_count": null,
   "id": "0468dd32",
   "metadata": {},
   "outputs": [],
   "source": []
  }
 ],
 "metadata": {
  "kernelspec": {
   "display_name": "tera",
   "language": "python",
   "name": "tera"
  },
  "language_info": {
   "codemirror_mode": {
    "name": "ipython",
    "version": 3
   },
   "file_extension": ".py",
   "mimetype": "text/x-python",
   "name": "python",
   "nbconvert_exporter": "python",
   "pygments_lexer": "ipython3",
   "version": "3.11.9"
  }
 },
 "nbformat": 4,
 "nbformat_minor": 5
}
